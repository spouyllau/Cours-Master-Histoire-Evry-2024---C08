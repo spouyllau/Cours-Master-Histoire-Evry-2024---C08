{
 "cells": [
  {
   "cell_type": "markdown",
   "id": "c1481d2d-51f0-47ba-bc62-7efc129cb32f",
   "metadata": {},
   "source": [
    "# Présentation de Python 3 pour les étudiants en master d'histoire\n",
    "\n",
    "## Introduction à Python 3\n",
    "\n",
    "Python est un langage de programmation puissant et polyvalent, largement utilisé dans de nombreux domaines, y compris l'analyse de données historiques. Ce notebook vous guidera à travers les bases de Python et vous montrera comment manipuler des fichiers CSV pour analyser des données historiques.\n",
    "\n",
    "## Développement\n",
    "\n",
    "Développé avec l'ordre : \n",
    "\n",
    "```text\n",
    "Écris-moi un notebook Jupyter pour présenter Python 3 à des masters d'histoire en basant les exemples sur la gestion d'un fichier CSV contenant des données historiques (dates, évènements, etc.)\n",
    "```\n",
    "Dans https://chat.mistral.ai\n",
    "\n",
    "### Installation des bibliothèques nécessaires\n",
    "\n",
    "Pour ce notebook, nous utiliserons la bibliothèque `pandas` pour manipuler les fichiers CSV. Si vous ne l'avez pas encore installée, vous pouvez le faire en utilisant la commande suivante :\n",
    "\n",
    "```python\n",
    "!pip install pandas\n"
   ]
  },
  {
   "cell_type": "markdown",
   "id": "211a0330-c2c7-4f59-bc8f-d21aaf7dd465",
   "metadata": {},
   "source": [
    "## Création et importation des bibliothèques"
   ]
  },
  {
   "cell_type": "code",
   "execution_count": 1,
   "id": "43d3b768-8c0b-4909-b8f4-6c3d8c74e51f",
   "metadata": {},
   "outputs": [
    {
     "name": "stdout",
     "output_type": "stream",
     "text": [
      "Requirement already satisfied: pandas in /opt/jupyterhub/lib/python3.9/site-packages (2.2.3)\n",
      "Requirement already satisfied: numpy>=1.22.4 in /opt/jupyterhub/lib/python3.9/site-packages (from pandas) (1.26.4)\n",
      "Requirement already satisfied: python-dateutil>=2.8.2 in /opt/jupyterhub/lib/python3.9/site-packages (from pandas) (2.9.0.post0)\n",
      "Requirement already satisfied: pytz>=2020.1 in /opt/jupyterhub/lib/python3.9/site-packages (from pandas) (2024.2)\n",
      "Requirement already satisfied: tzdata>=2022.7 in /opt/jupyterhub/lib/python3.9/site-packages (from pandas) (2024.2)\n",
      "Requirement already satisfied: six>=1.5 in /opt/jupyterhub/lib/python3.9/site-packages (from python-dateutil>=2.8.2->pandas) (1.16.0)\n"
     ]
    }
   ],
   "source": [
    "!pip install pandas"
   ]
  },
  {
   "cell_type": "code",
   "execution_count": 2,
   "id": "05b2a466-46da-4bb3-92b6-937c64027db1",
   "metadata": {},
   "outputs": [],
   "source": [
    "import pandas as pd\n",
    "import matplotlib.pyplot as plt"
   ]
  },
  {
   "cell_type": "markdown",
   "id": "7988fb42-2b15-4822-9df2-4298b7597825",
   "metadata": {},
   "source": [
    "## Chargement d'un fichier CSV\n",
    "\n",
    "Pour commencer, nous allons charger un fichier CSV contenant des données historiques. Supposons que nous avons un fichier CSV nommé historical_data.csv avec des colonnes comme Year, Event, Location, et Description."
   ]
  },
  {
   "cell_type": "code",
   "execution_count": 3,
   "id": "c309e947-920a-421d-83e5-b2feb0f7be20",
   "metadata": {},
   "outputs": [
    {
     "data": {
      "text/html": [
       "<div>\n",
       "<style scoped>\n",
       "    .dataframe tbody tr th:only-of-type {\n",
       "        vertical-align: middle;\n",
       "    }\n",
       "\n",
       "    .dataframe tbody tr th {\n",
       "        vertical-align: top;\n",
       "    }\n",
       "\n",
       "    .dataframe thead th {\n",
       "        text-align: right;\n",
       "    }\n",
       "</style>\n",
       "<table border=\"1\" class=\"dataframe\">\n",
       "  <thead>\n",
       "    <tr style=\"text-align: right;\">\n",
       "      <th></th>\n",
       "      <th>Year</th>\n",
       "      <th>Event</th>\n",
       "      <th>Location</th>\n",
       "      <th>Description</th>\n",
       "    </tr>\n",
       "  </thead>\n",
       "  <tbody>\n",
       "    <tr>\n",
       "      <th>0</th>\n",
       "      <td>1789</td>\n",
       "      <td>French Revolution</td>\n",
       "      <td>France</td>\n",
       "      <td>The French Revolution was a period of radical ...</td>\n",
       "    </tr>\n",
       "    <tr>\n",
       "      <th>1</th>\n",
       "      <td>1815</td>\n",
       "      <td>Battle of Waterloo</td>\n",
       "      <td>Belgium</td>\n",
       "      <td>The Battle of Waterloo was the final battle of...</td>\n",
       "    </tr>\n",
       "    <tr>\n",
       "      <th>2</th>\n",
       "      <td>1861</td>\n",
       "      <td>American Civil War</td>\n",
       "      <td>United States</td>\n",
       "      <td>The American Civil War was a civil war in the ...</td>\n",
       "    </tr>\n",
       "    <tr>\n",
       "      <th>3</th>\n",
       "      <td>1914</td>\n",
       "      <td>World War I</td>\n",
       "      <td>Europe</td>\n",
       "      <td>World War I was a global war that lasted from ...</td>\n",
       "    </tr>\n",
       "    <tr>\n",
       "      <th>4</th>\n",
       "      <td>1939</td>\n",
       "      <td>CNRS birth</td>\n",
       "      <td>France</td>\n",
       "      <td>Jean Perrin and Jean Zay created CNRS.</td>\n",
       "    </tr>\n",
       "  </tbody>\n",
       "</table>\n",
       "</div>"
      ],
      "text/plain": [
       "   Year               Event       Location  \\\n",
       "0  1789   French Revolution         France   \n",
       "1  1815  Battle of Waterloo        Belgium   \n",
       "2  1861  American Civil War  United States   \n",
       "3  1914         World War I         Europe   \n",
       "4  1939          CNRS birth         France   \n",
       "\n",
       "                                         Description  \n",
       "0  The French Revolution was a period of radical ...  \n",
       "1  The Battle of Waterloo was the final battle of...  \n",
       "2  The American Civil War was a civil war in the ...  \n",
       "3  World War I was a global war that lasted from ...  \n",
       "4             Jean Perrin and Jean Zay created CNRS.  "
      ]
     },
     "execution_count": 3,
     "metadata": {},
     "output_type": "execute_result"
    }
   ],
   "source": [
    "# Charger le fichier CSV dans une variable df\n",
    "df = pd.read_csv('evenements.csv')\n",
    "\n",
    "# Afficher les premières lignes de la variable df (DataFrame)\n",
    "df.head()"
   ]
  },
  {
   "cell_type": "markdown",
   "id": "6222b030-4c33-48b7-8b9c-5b61e05a8237",
   "metadata": {},
   "source": [
    "## Exploration des données\n",
    "\n",
    "Maintenant que nous avons chargé les données, nous pouvons explorer le DataFrame pour mieux comprendre sa structure. \n",
    "\n",
    "> **Définition de _DataFrame_** : La structure de données fondamentale de _Pandas_ est le _DataFrame_ (ou cadre de données). Un cadre de données est un **tableau de données** à deux dimensions avec un index étiqueté et des colonnes nommées. Chaque colonne du cadre de données, appelée série pandas, partage un index commun. + d'information sur : https://www.w3schools.com/python/pandas/pandas_dataframes.asp\n",
    "\n"
   ]
  },
  {
   "cell_type": "code",
   "execution_count": 4,
   "id": "82d6619f-28c8-426d-b842-0b112e74ce8c",
   "metadata": {},
   "outputs": [
    {
     "name": "stdout",
     "output_type": "stream",
     "text": [
      "<class 'pandas.core.frame.DataFrame'>\n",
      "RangeIndex: 6 entries, 0 to 5\n",
      "Data columns (total 4 columns):\n",
      " #   Column       Non-Null Count  Dtype \n",
      "---  ------       --------------  ----- \n",
      " 0   Year         6 non-null      int64 \n",
      " 1   Event        6 non-null      object\n",
      " 2   Location     6 non-null      object\n",
      " 3   Description  6 non-null      object\n",
      "dtypes: int64(1), object(3)\n",
      "memory usage: 320.0+ bytes\n"
     ]
    },
    {
     "data": {
      "text/html": [
       "<div>\n",
       "<style scoped>\n",
       "    .dataframe tbody tr th:only-of-type {\n",
       "        vertical-align: middle;\n",
       "    }\n",
       "\n",
       "    .dataframe tbody tr th {\n",
       "        vertical-align: top;\n",
       "    }\n",
       "\n",
       "    .dataframe thead th {\n",
       "        text-align: right;\n",
       "    }\n",
       "</style>\n",
       "<table border=\"1\" class=\"dataframe\">\n",
       "  <thead>\n",
       "    <tr style=\"text-align: right;\">\n",
       "      <th></th>\n",
       "      <th>Year</th>\n",
       "    </tr>\n",
       "  </thead>\n",
       "  <tbody>\n",
       "    <tr>\n",
       "      <th>count</th>\n",
       "      <td>6.000000</td>\n",
       "    </tr>\n",
       "    <tr>\n",
       "      <th>mean</th>\n",
       "      <td>1876.166667</td>\n",
       "    </tr>\n",
       "    <tr>\n",
       "      <th>std</th>\n",
       "      <td>64.648021</td>\n",
       "    </tr>\n",
       "    <tr>\n",
       "      <th>min</th>\n",
       "      <td>1789.000000</td>\n",
       "    </tr>\n",
       "    <tr>\n",
       "      <th>25%</th>\n",
       "      <td>1826.500000</td>\n",
       "    </tr>\n",
       "    <tr>\n",
       "      <th>50%</th>\n",
       "      <td>1887.500000</td>\n",
       "    </tr>\n",
       "    <tr>\n",
       "      <th>75%</th>\n",
       "      <td>1932.750000</td>\n",
       "    </tr>\n",
       "    <tr>\n",
       "      <th>max</th>\n",
       "      <td>1939.000000</td>\n",
       "    </tr>\n",
       "  </tbody>\n",
       "</table>\n",
       "</div>"
      ],
      "text/plain": [
       "              Year\n",
       "count     6.000000\n",
       "mean   1876.166667\n",
       "std      64.648021\n",
       "min    1789.000000\n",
       "25%    1826.500000\n",
       "50%    1887.500000\n",
       "75%    1932.750000\n",
       "max    1939.000000"
      ]
     },
     "execution_count": 4,
     "metadata": {},
     "output_type": "execute_result"
    }
   ],
   "source": [
    "# Afficher les informations sur le DataFrame\n",
    "df.info()\n",
    "\n",
    "# Afficher les statistiques descriptives\n",
    "df.describe()"
   ]
  },
  {
   "cell_type": "markdown",
   "id": "af8d0db6-8407-44b5-ae39-c2c71149b389",
   "metadata": {},
   "source": [
    "## Filtrage des données (ou rafinage…)\n",
    "\n",
    "Nous pouvons filtrer les données pour ne conserver que les événements qui se sont produits dans une certaine période ou à un certain endroit."
   ]
  },
  {
   "cell_type": "code",
   "execution_count": 5,
   "id": "6c20b576-f94e-49ba-87cf-4bd695acd78f",
   "metadata": {},
   "outputs": [
    {
     "data": {
      "text/html": [
       "<div>\n",
       "<style scoped>\n",
       "    .dataframe tbody tr th:only-of-type {\n",
       "        vertical-align: middle;\n",
       "    }\n",
       "\n",
       "    .dataframe tbody tr th {\n",
       "        vertical-align: top;\n",
       "    }\n",
       "\n",
       "    .dataframe thead th {\n",
       "        text-align: right;\n",
       "    }\n",
       "</style>\n",
       "<table border=\"1\" class=\"dataframe\">\n",
       "  <thead>\n",
       "    <tr style=\"text-align: right;\">\n",
       "      <th></th>\n",
       "      <th>Year</th>\n",
       "      <th>Event</th>\n",
       "      <th>Location</th>\n",
       "      <th>Description</th>\n",
       "    </tr>\n",
       "  </thead>\n",
       "  <tbody>\n",
       "    <tr>\n",
       "      <th>1</th>\n",
       "      <td>1815</td>\n",
       "      <td>Battle of Waterloo</td>\n",
       "      <td>Belgium</td>\n",
       "      <td>The Battle of Waterloo was the final battle of...</td>\n",
       "    </tr>\n",
       "    <tr>\n",
       "      <th>2</th>\n",
       "      <td>1861</td>\n",
       "      <td>American Civil War</td>\n",
       "      <td>United States</td>\n",
       "      <td>The American Civil War was a civil war in the ...</td>\n",
       "    </tr>\n",
       "  </tbody>\n",
       "</table>\n",
       "</div>"
      ],
      "text/plain": [
       "   Year               Event       Location  \\\n",
       "1  1815  Battle of Waterloo        Belgium   \n",
       "2  1861  American Civil War  United States   \n",
       "\n",
       "                                         Description  \n",
       "1  The Battle of Waterloo was the final battle of...  \n",
       "2  The American Civil War was a civil war in the ...  "
      ]
     },
     "execution_count": 5,
     "metadata": {},
     "output_type": "execute_result"
    }
   ],
   "source": [
    "# Filtrer les événements qui se sont produits au 19ème siècle\n",
    "df_19th_century = df[(df['Year'] >= 1800) & (df['Year'] < 1900)]\n",
    "\n",
    "# Afficher les premières lignes du DataFrame filtré\n",
    "df_19th_century.head()\n"
   ]
  },
  {
   "cell_type": "markdown",
   "id": "0185960a-5d6c-4ff4-a085-cf62325f8e9b",
   "metadata": {},
   "source": [
    "## Analyse des données\n",
    "\n",
    "Nous pouvons effectuer des analyses simples, comme compter le nombre d'événements par année ou par lieu."
   ]
  },
  {
   "cell_type": "code",
   "execution_count": 6,
   "id": "fcf4d005-3cc3-4766-9c3b-5ab668444bf8",
   "metadata": {},
   "outputs": [
    {
     "data": {
      "text/plain": [
       "Year\n",
       "1789    1\n",
       "1815    1\n",
       "1861    1\n",
       "1914    1\n",
       "1939    2\n",
       "Name: count, dtype: int64"
      ]
     },
     "execution_count": 6,
     "metadata": {},
     "output_type": "execute_result"
    }
   ],
   "source": [
    "# Compter le nombre d'événements par année\n",
    "events_per_year = df['Year'].value_counts().sort_index()\n",
    "\n",
    "# Afficher les résultats\n",
    "events_per_year.head()\n"
   ]
  },
  {
   "cell_type": "code",
   "execution_count": 7,
   "id": "4b53f934-ef58-4d29-a222-cece9c6582ac",
   "metadata": {},
   "outputs": [
    {
     "data": {
      "text/plain": [
       "Location\n",
       "France           2\n",
       "Europe           2\n",
       "Belgium          1\n",
       "United States    1\n",
       "Name: count, dtype: int64"
      ]
     },
     "execution_count": 7,
     "metadata": {},
     "output_type": "execute_result"
    }
   ],
   "source": [
    "# Compter le nombre d'événements par lieu\n",
    "events_per_location = df['Location'].value_counts()\n",
    "\n",
    "# Afficher les résultats\n",
    "events_per_location.head()"
   ]
  },
  {
   "cell_type": "markdown",
   "id": "d7d8e9ae-2014-4180-810f-8311f1cb8bc9",
   "metadata": {},
   "source": [
    "## Visualisation des données\n",
    "\n",
    "Pour mieux comprendre les données, nous pouvons les visualiser à l'aide de graphiques. Nous utiliserons la bibliothèque matplotlib pour cela."
   ]
  },
  {
   "cell_type": "code",
   "execution_count": 8,
   "id": "2bcea19f-43db-4524-b08b-ac92ae7de1c9",
   "metadata": {},
   "outputs": [
    {
     "data": {
      "image/png": "[encoded data removed]",
      "text/plain": [
       "<Figure size 1000x600 with 1 Axes>"
      ]
     },
     "metadata": {},
     "output_type": "display_data"
    },
    {
     "data": {
      "image/png": "[encoded data removed]",
      "text/plain": [
       "<Figure size 1000x600 with 1 Axes>"
      ]
     },
     "metadata": {},
     "output_type": "display_data"
    }
   ],
   "source": [
    "# Tracer le nombre d'événements par année\n",
    "plt.figure(figsize=(10, 6))\n",
    "events_per_year.plot(kind='line')\n",
    "plt.title('Nombre d\\'événements par année')\n",
    "plt.xlabel('Année')\n",
    "plt.ylabel('Nombre d\\'événements')\n",
    "plt.grid(True)\n",
    "plt.show()\n",
    "\n",
    "# Tracer le nombre d'événements par lieu\n",
    "plt.figure(figsize=(10, 6))\n",
    "events_per_location.plot(kind='bar')\n",
    "plt.title('Nombre d\\'événements par lieu')\n",
    "plt.xlabel('Lieu')\n",
    "plt.ylabel('Nombre d\\'événements')\n",
    "plt.xticks(rotation=45)\n",
    "plt.grid(True)\n",
    "plt.show()\n"
   ]
  }
 ],
 "metadata": {
  "kernelspec": {
   "display_name": "Python 3.10 pour l'IA",
   "language": "python",
   "name": "ia"
  },
  "language_info": {
   "codemirror_mode": {
    "name": "ipython",
    "version": 3
   },
   "file_extension": ".py",
   "mimetype": "text/x-python",
   "name": "python",
   "nbconvert_exporter": "python",
   "pygments_lexer": "ipython3",
   "version": "3.10.16"
  }
 },
 "nbformat": 4,
 "nbformat_minor": 5
}
